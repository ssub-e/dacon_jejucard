{
 "cells": [
  {
   "cell_type": "code",
   "execution_count": 2,
   "metadata": {},
   "outputs": [],
   "source": [
    "import pandas as pd\n",
    "import numpy as np"
   ]
  },
  {
   "cell_type": "code",
   "execution_count": 3,
   "metadata": {},
   "outputs": [
    {
     "output_type": "execute_result",
     "data": {
      "text/plain": "          REG_YYMM CARD_SIDO_NM CARD_CCG_NM STD_CLSS_NM HOM_SIDO_NM  \\\n0           201901           강원         강릉시  건강보조식품 소매업          강원   \n1           201901           강원         강릉시  건강보조식품 소매업          강원   \n2           201901           강원         강릉시  건강보조식품 소매업          강원   \n3           201901           강원         강릉시  건강보조식품 소매업          강원   \n4           201901           강원         강릉시  건강보조식품 소매업          강원   \n...            ...          ...         ...         ...         ...   \n24697787    202003           충북         충주시    휴양콘도 운영업          충북   \n24697788    202003           충북         충주시    휴양콘도 운영업          충북   \n24697789    202003           충북         충주시    휴양콘도 운영업          충북   \n24697790    202003           충북         충주시    휴양콘도 운영업          충북   \n24697791    202003           충북         충주시    휴양콘도 운영업          충북   \n\n         HOM_CCG_NM  AGE  SEX_CTGO_CD  FLC  CSTMR_CNT      AMT  CNT  \n0               강릉시  20s            1    1          4   311200    4  \n1               강릉시  30s            1    2          7  1374500    8  \n2               강릉시  30s            2    2          6   818700    6  \n3               강릉시  40s            1    3          4  1717000    5  \n4               강릉시  40s            1    4          3  1047300    3  \n...             ...  ...          ...  ...        ...      ...  ...  \n24697787        충주시  30s            1    2          3    43300    4  \n24697788        충주시  40s            1    3          3    35000    3  \n24697789        충주시  50s            1    4          4   188000    6  \n24697790        충주시  50s            2    4          4    99000    6  \n24697791        충주시  60s            1    5          3   194000    3  \n\n[24697792 rows x 12 columns]",
      "text/html": "<div>\n<style scoped>\n    .dataframe tbody tr th:only-of-type {\n        vertical-align: middle;\n    }\n\n    .dataframe tbody tr th {\n        vertical-align: top;\n    }\n\n    .dataframe thead th {\n        text-align: right;\n    }\n</style>\n<table border=\"1\" class=\"dataframe\">\n  <thead>\n    <tr style=\"text-align: right;\">\n      <th></th>\n      <th>REG_YYMM</th>\n      <th>CARD_SIDO_NM</th>\n      <th>CARD_CCG_NM</th>\n      <th>STD_CLSS_NM</th>\n      <th>HOM_SIDO_NM</th>\n      <th>HOM_CCG_NM</th>\n      <th>AGE</th>\n      <th>SEX_CTGO_CD</th>\n      <th>FLC</th>\n      <th>CSTMR_CNT</th>\n      <th>AMT</th>\n      <th>CNT</th>\n    </tr>\n  </thead>\n  <tbody>\n    <tr>\n      <th>0</th>\n      <td>201901</td>\n      <td>강원</td>\n      <td>강릉시</td>\n      <td>건강보조식품 소매업</td>\n      <td>강원</td>\n      <td>강릉시</td>\n      <td>20s</td>\n      <td>1</td>\n      <td>1</td>\n      <td>4</td>\n      <td>311200</td>\n      <td>4</td>\n    </tr>\n    <tr>\n      <th>1</th>\n      <td>201901</td>\n      <td>강원</td>\n      <td>강릉시</td>\n      <td>건강보조식품 소매업</td>\n      <td>강원</td>\n      <td>강릉시</td>\n      <td>30s</td>\n      <td>1</td>\n      <td>2</td>\n      <td>7</td>\n      <td>1374500</td>\n      <td>8</td>\n    </tr>\n    <tr>\n      <th>2</th>\n      <td>201901</td>\n      <td>강원</td>\n      <td>강릉시</td>\n      <td>건강보조식품 소매업</td>\n      <td>강원</td>\n      <td>강릉시</td>\n      <td>30s</td>\n      <td>2</td>\n      <td>2</td>\n      <td>6</td>\n      <td>818700</td>\n      <td>6</td>\n    </tr>\n    <tr>\n      <th>3</th>\n      <td>201901</td>\n      <td>강원</td>\n      <td>강릉시</td>\n      <td>건강보조식품 소매업</td>\n      <td>강원</td>\n      <td>강릉시</td>\n      <td>40s</td>\n      <td>1</td>\n      <td>3</td>\n      <td>4</td>\n      <td>1717000</td>\n      <td>5</td>\n    </tr>\n    <tr>\n      <th>4</th>\n      <td>201901</td>\n      <td>강원</td>\n      <td>강릉시</td>\n      <td>건강보조식품 소매업</td>\n      <td>강원</td>\n      <td>강릉시</td>\n      <td>40s</td>\n      <td>1</td>\n      <td>4</td>\n      <td>3</td>\n      <td>1047300</td>\n      <td>3</td>\n    </tr>\n    <tr>\n      <th>...</th>\n      <td>...</td>\n      <td>...</td>\n      <td>...</td>\n      <td>...</td>\n      <td>...</td>\n      <td>...</td>\n      <td>...</td>\n      <td>...</td>\n      <td>...</td>\n      <td>...</td>\n      <td>...</td>\n      <td>...</td>\n    </tr>\n    <tr>\n      <th>24697787</th>\n      <td>202003</td>\n      <td>충북</td>\n      <td>충주시</td>\n      <td>휴양콘도 운영업</td>\n      <td>충북</td>\n      <td>충주시</td>\n      <td>30s</td>\n      <td>1</td>\n      <td>2</td>\n      <td>3</td>\n      <td>43300</td>\n      <td>4</td>\n    </tr>\n    <tr>\n      <th>24697788</th>\n      <td>202003</td>\n      <td>충북</td>\n      <td>충주시</td>\n      <td>휴양콘도 운영업</td>\n      <td>충북</td>\n      <td>충주시</td>\n      <td>40s</td>\n      <td>1</td>\n      <td>3</td>\n      <td>3</td>\n      <td>35000</td>\n      <td>3</td>\n    </tr>\n    <tr>\n      <th>24697789</th>\n      <td>202003</td>\n      <td>충북</td>\n      <td>충주시</td>\n      <td>휴양콘도 운영업</td>\n      <td>충북</td>\n      <td>충주시</td>\n      <td>50s</td>\n      <td>1</td>\n      <td>4</td>\n      <td>4</td>\n      <td>188000</td>\n      <td>6</td>\n    </tr>\n    <tr>\n      <th>24697790</th>\n      <td>202003</td>\n      <td>충북</td>\n      <td>충주시</td>\n      <td>휴양콘도 운영업</td>\n      <td>충북</td>\n      <td>충주시</td>\n      <td>50s</td>\n      <td>2</td>\n      <td>4</td>\n      <td>4</td>\n      <td>99000</td>\n      <td>6</td>\n    </tr>\n    <tr>\n      <th>24697791</th>\n      <td>202003</td>\n      <td>충북</td>\n      <td>충주시</td>\n      <td>휴양콘도 운영업</td>\n      <td>충북</td>\n      <td>충주시</td>\n      <td>60s</td>\n      <td>1</td>\n      <td>5</td>\n      <td>3</td>\n      <td>194000</td>\n      <td>3</td>\n    </tr>\n  </tbody>\n</table>\n<p>24697792 rows × 12 columns</p>\n</div>"
     },
     "metadata": {},
     "execution_count": 3
    }
   ],
   "source": [
    "data = pd.read_csv('jeju_data_ver1/201901-202003.csv')\n",
    "data"
   ]
  },
  {
   "cell_type": "code",
   "execution_count": 4,
   "metadata": {},
   "outputs": [],
   "source": [
    "# 날짜 타입 변경\n",
    "data['REG_YYMM']=data['REG_YYMM'].astype('str')\n",
    "# Null값 채우기\n",
    "data = data.fillna('')"
   ]
  },
  {
   "cell_type": "code",
   "execution_count": 5,
   "metadata": {},
   "outputs": [
    {
     "output_type": "execute_result",
     "data": {
      "text/plain": "         REG_YYMM CARD_SIDO_NM STD_CLSS_NM HOM_SIDO_NM  CSTMR_CNT      AMT  \\\n0          201901           강원  건강보조식품 소매업          강원          4   311200   \n1          201901           강원  건강보조식품 소매업          강원          7  1374500   \n2          201901           강원  건강보조식품 소매업          강원          6   818700   \n3          201901           강원  건강보조식품 소매업          강원          4  1717000   \n4          201901           강원  건강보조식품 소매업          강원          3  1047300   \n...           ...          ...         ...         ...        ...      ...   \n24697787   202003           충북    휴양콘도 운영업          충북          3    43300   \n24697788   202003           충북    휴양콘도 운영업          충북          3    35000   \n24697789   202003           충북    휴양콘도 운영업          충북          4   188000   \n24697790   202003           충북    휴양콘도 운영업          충북          4    99000   \n24697791   202003           충북    휴양콘도 운영업          충북          3   194000   \n\n          CNT  \n0           4  \n1           8  \n2           6  \n3           5  \n4           3  \n...       ...  \n24697787    4  \n24697788    3  \n24697789    6  \n24697790    6  \n24697791    3  \n\n[24697792 rows x 7 columns]",
      "text/html": "<div>\n<style scoped>\n    .dataframe tbody tr th:only-of-type {\n        vertical-align: middle;\n    }\n\n    .dataframe tbody tr th {\n        vertical-align: top;\n    }\n\n    .dataframe thead th {\n        text-align: right;\n    }\n</style>\n<table border=\"1\" class=\"dataframe\">\n  <thead>\n    <tr style=\"text-align: right;\">\n      <th></th>\n      <th>REG_YYMM</th>\n      <th>CARD_SIDO_NM</th>\n      <th>STD_CLSS_NM</th>\n      <th>HOM_SIDO_NM</th>\n      <th>CSTMR_CNT</th>\n      <th>AMT</th>\n      <th>CNT</th>\n    </tr>\n  </thead>\n  <tbody>\n    <tr>\n      <th>0</th>\n      <td>201901</td>\n      <td>강원</td>\n      <td>건강보조식품 소매업</td>\n      <td>강원</td>\n      <td>4</td>\n      <td>311200</td>\n      <td>4</td>\n    </tr>\n    <tr>\n      <th>1</th>\n      <td>201901</td>\n      <td>강원</td>\n      <td>건강보조식품 소매업</td>\n      <td>강원</td>\n      <td>7</td>\n      <td>1374500</td>\n      <td>8</td>\n    </tr>\n    <tr>\n      <th>2</th>\n      <td>201901</td>\n      <td>강원</td>\n      <td>건강보조식품 소매업</td>\n      <td>강원</td>\n      <td>6</td>\n      <td>818700</td>\n      <td>6</td>\n    </tr>\n    <tr>\n      <th>3</th>\n      <td>201901</td>\n      <td>강원</td>\n      <td>건강보조식품 소매업</td>\n      <td>강원</td>\n      <td>4</td>\n      <td>1717000</td>\n      <td>5</td>\n    </tr>\n    <tr>\n      <th>4</th>\n      <td>201901</td>\n      <td>강원</td>\n      <td>건강보조식품 소매업</td>\n      <td>강원</td>\n      <td>3</td>\n      <td>1047300</td>\n      <td>3</td>\n    </tr>\n    <tr>\n      <th>...</th>\n      <td>...</td>\n      <td>...</td>\n      <td>...</td>\n      <td>...</td>\n      <td>...</td>\n      <td>...</td>\n      <td>...</td>\n    </tr>\n    <tr>\n      <th>24697787</th>\n      <td>202003</td>\n      <td>충북</td>\n      <td>휴양콘도 운영업</td>\n      <td>충북</td>\n      <td>3</td>\n      <td>43300</td>\n      <td>4</td>\n    </tr>\n    <tr>\n      <th>24697788</th>\n      <td>202003</td>\n      <td>충북</td>\n      <td>휴양콘도 운영업</td>\n      <td>충북</td>\n      <td>3</td>\n      <td>35000</td>\n      <td>3</td>\n    </tr>\n    <tr>\n      <th>24697789</th>\n      <td>202003</td>\n      <td>충북</td>\n      <td>휴양콘도 운영업</td>\n      <td>충북</td>\n      <td>4</td>\n      <td>188000</td>\n      <td>6</td>\n    </tr>\n    <tr>\n      <th>24697790</th>\n      <td>202003</td>\n      <td>충북</td>\n      <td>휴양콘도 운영업</td>\n      <td>충북</td>\n      <td>4</td>\n      <td>99000</td>\n      <td>6</td>\n    </tr>\n    <tr>\n      <th>24697791</th>\n      <td>202003</td>\n      <td>충북</td>\n      <td>휴양콘도 운영업</td>\n      <td>충북</td>\n      <td>3</td>\n      <td>194000</td>\n      <td>3</td>\n    </tr>\n  </tbody>\n</table>\n<p>24697792 rows × 7 columns</p>\n</div>"
     },
     "metadata": {},
     "execution_count": 5
    }
   ],
   "source": [
    "# Null값이 있는 시군구 열 삭제\n",
    "data.drop(['CARD_CCG_NM','HOM_CCG_NM'], axis='columns', inplace=True)\n",
    "# 'AGE', 'SEX_CTGO_CD', 'FLC' 컬럼 삭제 후 업종별 합계\n",
    "data.drop(['AGE', 'SEX_CTGO_CD', 'FLC'], axis='columns', inplace=True)\n",
    "data"
   ]
  },
  {
   "cell_type": "code",
   "execution_count": 6,
   "metadata": {},
   "outputs": [
    {
     "output_type": "execute_result",
     "data": {
      "text/plain": "       REG_YYMM CARD_SIDO_NM STD_CLSS_NM HOM_SIDO_NM  CSTMR_CNT        AMT  \\\n0        201901           강원  건강보조식품 소매업          강원       1058  147831746   \n1        201901           강원  건강보조식품 소매업          광주          5     127000   \n2        201901           강원  건강보조식품 소매업          대구          7     155000   \n3        201901           강원  건강보조식품 소매업          서울          5     151000   \n4        201901           강원  건강보조식품 소매업          전북          5      90000   \n...         ...          ...         ...         ...        ...        ...   \n106381   202003           충북    휴양콘도 운영업          경기         18    2170050   \n106382   202003           충북    휴양콘도 운영업          서울         37    6830430   \n106383   202003           충북    휴양콘도 운영업          세종          3     354000   \n106384   202003           충북    휴양콘도 운영업          인천          3      88250   \n106385   202003           충북    휴양콘도 운영업          충북         51    3137560   \n\n         CNT  \n0       1105  \n1          5  \n2          7  \n3          6  \n4          5  \n...      ...  \n106381    20  \n106382    82  \n106383     3  \n106384     5  \n106385    68  \n\n[106386 rows x 7 columns]",
      "text/html": "<div>\n<style scoped>\n    .dataframe tbody tr th:only-of-type {\n        vertical-align: middle;\n    }\n\n    .dataframe tbody tr th {\n        vertical-align: top;\n    }\n\n    .dataframe thead th {\n        text-align: right;\n    }\n</style>\n<table border=\"1\" class=\"dataframe\">\n  <thead>\n    <tr style=\"text-align: right;\">\n      <th></th>\n      <th>REG_YYMM</th>\n      <th>CARD_SIDO_NM</th>\n      <th>STD_CLSS_NM</th>\n      <th>HOM_SIDO_NM</th>\n      <th>CSTMR_CNT</th>\n      <th>AMT</th>\n      <th>CNT</th>\n    </tr>\n  </thead>\n  <tbody>\n    <tr>\n      <th>0</th>\n      <td>201901</td>\n      <td>강원</td>\n      <td>건강보조식품 소매업</td>\n      <td>강원</td>\n      <td>1058</td>\n      <td>147831746</td>\n      <td>1105</td>\n    </tr>\n    <tr>\n      <th>1</th>\n      <td>201901</td>\n      <td>강원</td>\n      <td>건강보조식품 소매업</td>\n      <td>광주</td>\n      <td>5</td>\n      <td>127000</td>\n      <td>5</td>\n    </tr>\n    <tr>\n      <th>2</th>\n      <td>201901</td>\n      <td>강원</td>\n      <td>건강보조식품 소매업</td>\n      <td>대구</td>\n      <td>7</td>\n      <td>155000</td>\n      <td>7</td>\n    </tr>\n    <tr>\n      <th>3</th>\n      <td>201901</td>\n      <td>강원</td>\n      <td>건강보조식품 소매업</td>\n      <td>서울</td>\n      <td>5</td>\n      <td>151000</td>\n      <td>6</td>\n    </tr>\n    <tr>\n      <th>4</th>\n      <td>201901</td>\n      <td>강원</td>\n      <td>건강보조식품 소매업</td>\n      <td>전북</td>\n      <td>5</td>\n      <td>90000</td>\n      <td>5</td>\n    </tr>\n    <tr>\n      <th>...</th>\n      <td>...</td>\n      <td>...</td>\n      <td>...</td>\n      <td>...</td>\n      <td>...</td>\n      <td>...</td>\n      <td>...</td>\n    </tr>\n    <tr>\n      <th>106381</th>\n      <td>202003</td>\n      <td>충북</td>\n      <td>휴양콘도 운영업</td>\n      <td>경기</td>\n      <td>18</td>\n      <td>2170050</td>\n      <td>20</td>\n    </tr>\n    <tr>\n      <th>106382</th>\n      <td>202003</td>\n      <td>충북</td>\n      <td>휴양콘도 운영업</td>\n      <td>서울</td>\n      <td>37</td>\n      <td>6830430</td>\n      <td>82</td>\n    </tr>\n    <tr>\n      <th>106383</th>\n      <td>202003</td>\n      <td>충북</td>\n      <td>휴양콘도 운영업</td>\n      <td>세종</td>\n      <td>3</td>\n      <td>354000</td>\n      <td>3</td>\n    </tr>\n    <tr>\n      <th>106384</th>\n      <td>202003</td>\n      <td>충북</td>\n      <td>휴양콘도 운영업</td>\n      <td>인천</td>\n      <td>3</td>\n      <td>88250</td>\n      <td>5</td>\n    </tr>\n    <tr>\n      <th>106385</th>\n      <td>202003</td>\n      <td>충북</td>\n      <td>휴양콘도 운영업</td>\n      <td>충북</td>\n      <td>51</td>\n      <td>3137560</td>\n      <td>68</td>\n    </tr>\n  </tbody>\n</table>\n<p>106386 rows × 7 columns</p>\n</div>"
     },
     "metadata": {},
     "execution_count": 6
    }
   ],
   "source": [
    "data1=data.groupby(['REG_YYMM','CARD_SIDO_NM','STD_CLSS_NM','HOM_SIDO_NM']).sum().reset_index(drop=False)\n",
    "# data1.to_csv('data_f.csv', encoding='utf-8-sig', index=False)\n",
    "data1"
   ]
  },
  {
   "cell_type": "code",
   "execution_count": 7,
   "metadata": {},
   "outputs": [],
   "source": [
    "# 코로나 데이터 전처리\n",
    "covid=pd.read_csv('jeju_data_ver1/covid_19a.csv', encoding='cp949').iloc[:,1:]\n",
    "covid['year']=covid.확진년월.str.split('-').str[0]\n",
    "covid['month']=covid.확진년월.str.split('-').str[1]\n",
    "covid['REG_YYMM']=covid['year']+covid['month']\n",
    "covid=covid.rename(columns={'지역':'CARD_SIDO_NM'})"
   ]
  },
  {
   "cell_type": "code",
   "execution_count": 8,
   "metadata": {},
   "outputs": [
    {
     "output_type": "execute_result",
     "data": {
      "text/plain": "   REG_YYMM CARD_SIDO_NM  확진자  확진자_증가\n0    202001           강원    0       0\n1    202001           경기    5       5\n2    202001           경남    0       0\n3    202001           경북    0       0\n4    202001           광주    0       0\n..      ...          ...  ...     ...\n80   202005           전남   19       4\n81   202005           전북   21       3\n82   202005           제주   15       2\n83   202005           충남  146       3\n84   202005           충북   60      15\n\n[85 rows x 4 columns]",
      "text/html": "<div>\n<style scoped>\n    .dataframe tbody tr th:only-of-type {\n        vertical-align: middle;\n    }\n\n    .dataframe tbody tr th {\n        vertical-align: top;\n    }\n\n    .dataframe thead th {\n        text-align: right;\n    }\n</style>\n<table border=\"1\" class=\"dataframe\">\n  <thead>\n    <tr style=\"text-align: right;\">\n      <th></th>\n      <th>REG_YYMM</th>\n      <th>CARD_SIDO_NM</th>\n      <th>확진자</th>\n      <th>확진자_증가</th>\n    </tr>\n  </thead>\n  <tbody>\n    <tr>\n      <th>0</th>\n      <td>202001</td>\n      <td>강원</td>\n      <td>0</td>\n      <td>0</td>\n    </tr>\n    <tr>\n      <th>1</th>\n      <td>202001</td>\n      <td>경기</td>\n      <td>5</td>\n      <td>5</td>\n    </tr>\n    <tr>\n      <th>2</th>\n      <td>202001</td>\n      <td>경남</td>\n      <td>0</td>\n      <td>0</td>\n    </tr>\n    <tr>\n      <th>3</th>\n      <td>202001</td>\n      <td>경북</td>\n      <td>0</td>\n      <td>0</td>\n    </tr>\n    <tr>\n      <th>4</th>\n      <td>202001</td>\n      <td>광주</td>\n      <td>0</td>\n      <td>0</td>\n    </tr>\n    <tr>\n      <th>...</th>\n      <td>...</td>\n      <td>...</td>\n      <td>...</td>\n      <td>...</td>\n    </tr>\n    <tr>\n      <th>80</th>\n      <td>202005</td>\n      <td>전남</td>\n      <td>19</td>\n      <td>4</td>\n    </tr>\n    <tr>\n      <th>81</th>\n      <td>202005</td>\n      <td>전북</td>\n      <td>21</td>\n      <td>3</td>\n    </tr>\n    <tr>\n      <th>82</th>\n      <td>202005</td>\n      <td>제주</td>\n      <td>15</td>\n      <td>2</td>\n    </tr>\n    <tr>\n      <th>83</th>\n      <td>202005</td>\n      <td>충남</td>\n      <td>146</td>\n      <td>3</td>\n    </tr>\n    <tr>\n      <th>84</th>\n      <td>202005</td>\n      <td>충북</td>\n      <td>60</td>\n      <td>15</td>\n    </tr>\n  </tbody>\n</table>\n<p>85 rows × 4 columns</p>\n</div>"
     },
     "metadata": {},
     "execution_count": 8
    }
   ],
   "source": [
    "# 월별 지역별 코로나 누적 및 신규 확진자\n",
    "rcovid=covid.groupby(['REG_YYMM','CARD_SIDO_NM']).sum()['확진자_증가']\n",
    "rrcovid=covid.groupby(['REG_YYMM','CARD_SIDO_NM']).last()['확진자']\n",
    "rcovid=pd.DataFrame(rcovid).reset_index()\n",
    "rrcovid=pd.DataFrame(rrcovid).reset_index()\n",
    "rcovid=pd.merge(rrcovid, rcovid, on=['REG_YYMM','CARD_SIDO_NM'], how='left')\n",
    "rcovid=rcovid.astype({'확진자': 'int','확진자_증가':'int'})\n",
    "rcovid"
   ]
  },
  {
   "cell_type": "code",
   "execution_count": 9,
   "metadata": {},
   "outputs": [
    {
     "output_type": "execute_result",
     "data": {
      "text/plain": "  REG_YYMM  전국확진자\n0   202001     11\n1   202002   3150\n2   202003   9569\n3   202004  10319\n4   202005  10934",
      "text/html": "<div>\n<style scoped>\n    .dataframe tbody tr th:only-of-type {\n        vertical-align: middle;\n    }\n\n    .dataframe tbody tr th {\n        vertical-align: top;\n    }\n\n    .dataframe thead th {\n        text-align: right;\n    }\n</style>\n<table border=\"1\" class=\"dataframe\">\n  <thead>\n    <tr style=\"text-align: right;\">\n      <th></th>\n      <th>REG_YYMM</th>\n      <th>전국확진자</th>\n    </tr>\n  </thead>\n  <tbody>\n    <tr>\n      <th>0</th>\n      <td>202001</td>\n      <td>11</td>\n    </tr>\n    <tr>\n      <th>1</th>\n      <td>202002</td>\n      <td>3150</td>\n    </tr>\n    <tr>\n      <th>2</th>\n      <td>202003</td>\n      <td>9569</td>\n    </tr>\n    <tr>\n      <th>3</th>\n      <td>202004</td>\n      <td>10319</td>\n    </tr>\n    <tr>\n      <th>4</th>\n      <td>202005</td>\n      <td>10934</td>\n    </tr>\n  </tbody>\n</table>\n</div>"
     },
     "metadata": {},
     "execution_count": 9
    }
   ],
   "source": [
    "# 전국확진자 데이터 생성\n",
    "rcotmp=rcovid.copy()\n",
    "rcotmp=rcotmp.groupby('REG_YYMM').sum()['확진자'].reset_index()\n",
    "rcotmp=rcotmp.rename(columns={'확진자':'전국확진자'})\n",
    "rcotmp"
   ]
  },
  {
   "cell_type": "code",
   "execution_count": 10,
   "metadata": {},
   "outputs": [
    {
     "output_type": "execute_result",
     "data": {
      "text/plain": "  REG_YYMM  전국확진자  전국확진자_증가\n0   202001     11        11\n1   202002   3150      3139\n2   202003   9569      6419\n3   202004  10319       750\n4   202005  10934       615",
      "text/html": "<div>\n<style scoped>\n    .dataframe tbody tr th:only-of-type {\n        vertical-align: middle;\n    }\n\n    .dataframe tbody tr th {\n        vertical-align: top;\n    }\n\n    .dataframe thead th {\n        text-align: right;\n    }\n</style>\n<table border=\"1\" class=\"dataframe\">\n  <thead>\n    <tr style=\"text-align: right;\">\n      <th></th>\n      <th>REG_YYMM</th>\n      <th>전국확진자</th>\n      <th>전국확진자_증가</th>\n    </tr>\n  </thead>\n  <tbody>\n    <tr>\n      <th>0</th>\n      <td>202001</td>\n      <td>11</td>\n      <td>11</td>\n    </tr>\n    <tr>\n      <th>1</th>\n      <td>202002</td>\n      <td>3150</td>\n      <td>3139</td>\n    </tr>\n    <tr>\n      <th>2</th>\n      <td>202003</td>\n      <td>9569</td>\n      <td>6419</td>\n    </tr>\n    <tr>\n      <th>3</th>\n      <td>202004</td>\n      <td>10319</td>\n      <td>750</td>\n    </tr>\n    <tr>\n      <th>4</th>\n      <td>202005</td>\n      <td>10934</td>\n      <td>615</td>\n    </tr>\n  </tbody>\n</table>\n</div>"
     },
     "metadata": {},
     "execution_count": 10
    }
   ],
   "source": [
    "# 전국확진자_증가 데이터 생성\n",
    "rcotmp1=rcovid.copy()\n",
    "rcotmp['전국확진자_증가']=rcotmp1.groupby('REG_YYMM').sum()['확진자_증가'].reset_index()['확진자_증가']\n",
    "rcotmp"
   ]
  },
  {
   "cell_type": "code",
   "execution_count": 11,
   "metadata": {},
   "outputs": [
    {
     "output_type": "execute_result",
     "data": {
      "text/plain": "   REG_YYMM CARD_SIDO_NM  확진자  확진자_증가  전국확진자  전국확진자_증가\n0    202001           강원    0       0     11        11\n1    202001           경기    5       5     11        11\n2    202001           경남    0       0     11        11\n3    202001           경북    0       0     11        11\n4    202001           광주    0       0     11        11\n..      ...          ...  ...     ...    ...       ...\n80   202005           전남   19       4  10934       615\n81   202005           전북   21       3  10934       615\n82   202005           제주   15       2  10934       615\n83   202005           충남  146       3  10934       615\n84   202005           충북   60      15  10934       615\n\n[85 rows x 6 columns]",
      "text/html": "<div>\n<style scoped>\n    .dataframe tbody tr th:only-of-type {\n        vertical-align: middle;\n    }\n\n    .dataframe tbody tr th {\n        vertical-align: top;\n    }\n\n    .dataframe thead th {\n        text-align: right;\n    }\n</style>\n<table border=\"1\" class=\"dataframe\">\n  <thead>\n    <tr style=\"text-align: right;\">\n      <th></th>\n      <th>REG_YYMM</th>\n      <th>CARD_SIDO_NM</th>\n      <th>확진자</th>\n      <th>확진자_증가</th>\n      <th>전국확진자</th>\n      <th>전국확진자_증가</th>\n    </tr>\n  </thead>\n  <tbody>\n    <tr>\n      <th>0</th>\n      <td>202001</td>\n      <td>강원</td>\n      <td>0</td>\n      <td>0</td>\n      <td>11</td>\n      <td>11</td>\n    </tr>\n    <tr>\n      <th>1</th>\n      <td>202001</td>\n      <td>경기</td>\n      <td>5</td>\n      <td>5</td>\n      <td>11</td>\n      <td>11</td>\n    </tr>\n    <tr>\n      <th>2</th>\n      <td>202001</td>\n      <td>경남</td>\n      <td>0</td>\n      <td>0</td>\n      <td>11</td>\n      <td>11</td>\n    </tr>\n    <tr>\n      <th>3</th>\n      <td>202001</td>\n      <td>경북</td>\n      <td>0</td>\n      <td>0</td>\n      <td>11</td>\n      <td>11</td>\n    </tr>\n    <tr>\n      <th>4</th>\n      <td>202001</td>\n      <td>광주</td>\n      <td>0</td>\n      <td>0</td>\n      <td>11</td>\n      <td>11</td>\n    </tr>\n    <tr>\n      <th>...</th>\n      <td>...</td>\n      <td>...</td>\n      <td>...</td>\n      <td>...</td>\n      <td>...</td>\n      <td>...</td>\n    </tr>\n    <tr>\n      <th>80</th>\n      <td>202005</td>\n      <td>전남</td>\n      <td>19</td>\n      <td>4</td>\n      <td>10934</td>\n      <td>615</td>\n    </tr>\n    <tr>\n      <th>81</th>\n      <td>202005</td>\n      <td>전북</td>\n      <td>21</td>\n      <td>3</td>\n      <td>10934</td>\n      <td>615</td>\n    </tr>\n    <tr>\n      <th>82</th>\n      <td>202005</td>\n      <td>제주</td>\n      <td>15</td>\n      <td>2</td>\n      <td>10934</td>\n      <td>615</td>\n    </tr>\n    <tr>\n      <th>83</th>\n      <td>202005</td>\n      <td>충남</td>\n      <td>146</td>\n      <td>3</td>\n      <td>10934</td>\n      <td>615</td>\n    </tr>\n    <tr>\n      <th>84</th>\n      <td>202005</td>\n      <td>충북</td>\n      <td>60</td>\n      <td>15</td>\n      <td>10934</td>\n      <td>615</td>\n    </tr>\n  </tbody>\n</table>\n<p>85 rows × 6 columns</p>\n</div>"
     },
     "metadata": {},
     "execution_count": 11
    }
   ],
   "source": [
    "#생성된 코로나 데이터 하나로 병합 후 저장\n",
    "rcovid=pd.merge(rcovid, rcotmp, on='REG_YYMM' , how='left')\n",
    "rcovid.to_csv('jeju_data_ver1/covid_19b.csv', encoding='utf-8', index=False)\n",
    "rcovid"
   ]
  },
  {
   "cell_type": "code",
   "execution_count": 13,
   "metadata": {
    "tags": []
   },
   "outputs": [
    {
     "output_type": "execute_result",
     "data": {
      "text/plain": "       REG_YYMM CARD_SIDO_NM STD_CLSS_NM HOM_SIDO_NM  CSTMR_CNT        AMT  \\\n0        201901           강원  건강보조식품 소매업          강원       1058  147831746   \n1        201901           강원  건강보조식품 소매업          광주          5     127000   \n2        201901           강원  건강보조식품 소매업          대구          7     155000   \n3        201901           강원  건강보조식품 소매업          서울          5     151000   \n4        201901           강원  건강보조식품 소매업          전북          5      90000   \n...         ...          ...         ...         ...        ...        ...   \n106381   202003           충북    휴양콘도 운영업          경기         18    2170050   \n106382   202003           충북    휴양콘도 운영업          서울         37    6830430   \n106383   202003           충북    휴양콘도 운영업          세종          3     354000   \n106384   202003           충북    휴양콘도 운영업          인천          3      88250   \n106385   202003           충북    휴양콘도 운영업          충북         51    3137560   \n\n         CNT   확진자  확진자_증가  \n0       1105   0.0     0.0  \n1          5   0.0     0.0  \n2          7   0.0     0.0  \n3          6   0.0     0.0  \n4          5   0.0     0.0  \n...      ...   ...     ...  \n106381    20  44.0    34.0  \n106382    82  44.0    34.0  \n106383     3  44.0    34.0  \n106384     5  44.0    34.0  \n106385    68  44.0    34.0  \n\n[106386 rows x 9 columns]",
      "text/html": "<div>\n<style scoped>\n    .dataframe tbody tr th:only-of-type {\n        vertical-align: middle;\n    }\n\n    .dataframe tbody tr th {\n        vertical-align: top;\n    }\n\n    .dataframe thead th {\n        text-align: right;\n    }\n</style>\n<table border=\"1\" class=\"dataframe\">\n  <thead>\n    <tr style=\"text-align: right;\">\n      <th></th>\n      <th>REG_YYMM</th>\n      <th>CARD_SIDO_NM</th>\n      <th>STD_CLSS_NM</th>\n      <th>HOM_SIDO_NM</th>\n      <th>CSTMR_CNT</th>\n      <th>AMT</th>\n      <th>CNT</th>\n      <th>확진자</th>\n      <th>확진자_증가</th>\n    </tr>\n  </thead>\n  <tbody>\n    <tr>\n      <th>0</th>\n      <td>201901</td>\n      <td>강원</td>\n      <td>건강보조식품 소매업</td>\n      <td>강원</td>\n      <td>1058</td>\n      <td>147831746</td>\n      <td>1105</td>\n      <td>0.0</td>\n      <td>0.0</td>\n    </tr>\n    <tr>\n      <th>1</th>\n      <td>201901</td>\n      <td>강원</td>\n      <td>건강보조식품 소매업</td>\n      <td>광주</td>\n      <td>5</td>\n      <td>127000</td>\n      <td>5</td>\n      <td>0.0</td>\n      <td>0.0</td>\n    </tr>\n    <tr>\n      <th>2</th>\n      <td>201901</td>\n      <td>강원</td>\n      <td>건강보조식품 소매업</td>\n      <td>대구</td>\n      <td>7</td>\n      <td>155000</td>\n      <td>7</td>\n      <td>0.0</td>\n      <td>0.0</td>\n    </tr>\n    <tr>\n      <th>3</th>\n      <td>201901</td>\n      <td>강원</td>\n      <td>건강보조식품 소매업</td>\n      <td>서울</td>\n      <td>5</td>\n      <td>151000</td>\n      <td>6</td>\n      <td>0.0</td>\n      <td>0.0</td>\n    </tr>\n    <tr>\n      <th>4</th>\n      <td>201901</td>\n      <td>강원</td>\n      <td>건강보조식품 소매업</td>\n      <td>전북</td>\n      <td>5</td>\n      <td>90000</td>\n      <td>5</td>\n      <td>0.0</td>\n      <td>0.0</td>\n    </tr>\n    <tr>\n      <th>...</th>\n      <td>...</td>\n      <td>...</td>\n      <td>...</td>\n      <td>...</td>\n      <td>...</td>\n      <td>...</td>\n      <td>...</td>\n      <td>...</td>\n      <td>...</td>\n    </tr>\n    <tr>\n      <th>106381</th>\n      <td>202003</td>\n      <td>충북</td>\n      <td>휴양콘도 운영업</td>\n      <td>경기</td>\n      <td>18</td>\n      <td>2170050</td>\n      <td>20</td>\n      <td>44.0</td>\n      <td>34.0</td>\n    </tr>\n    <tr>\n      <th>106382</th>\n      <td>202003</td>\n      <td>충북</td>\n      <td>휴양콘도 운영업</td>\n      <td>서울</td>\n      <td>37</td>\n      <td>6830430</td>\n      <td>82</td>\n      <td>44.0</td>\n      <td>34.0</td>\n    </tr>\n    <tr>\n      <th>106383</th>\n      <td>202003</td>\n      <td>충북</td>\n      <td>휴양콘도 운영업</td>\n      <td>세종</td>\n      <td>3</td>\n      <td>354000</td>\n      <td>3</td>\n      <td>44.0</td>\n      <td>34.0</td>\n    </tr>\n    <tr>\n      <th>106384</th>\n      <td>202003</td>\n      <td>충북</td>\n      <td>휴양콘도 운영업</td>\n      <td>인천</td>\n      <td>3</td>\n      <td>88250</td>\n      <td>5</td>\n      <td>44.0</td>\n      <td>34.0</td>\n    </tr>\n    <tr>\n      <th>106385</th>\n      <td>202003</td>\n      <td>충북</td>\n      <td>휴양콘도 운영업</td>\n      <td>충북</td>\n      <td>51</td>\n      <td>3137560</td>\n      <td>68</td>\n      <td>44.0</td>\n      <td>34.0</td>\n    </tr>\n  </tbody>\n</table>\n<p>106386 rows × 9 columns</p>\n</div>"
     },
     "metadata": {},
     "execution_count": 13
    }
   ],
   "source": [
    "# CARD_SIDO_NM의 코로나 데이터 merging\n",
    "data2=pd.merge(data1, rcovid, on=['REG_YYMM','CARD_SIDO_NM'], how='left').drop(['전국확진자','전국확진자_증가'], axis='columns')\n",
    "data2 = data2.fillna(0)\n",
    "data2"
   ]
  },
  {
   "cell_type": "code",
   "execution_count": 14,
   "metadata": {},
   "outputs": [
    {
     "output_type": "execute_result",
     "data": {
      "text/plain": "       REG_YYMM CARD_SIDO_NM STD_CLSS_NM HOM_SIDO_NM  CSTMR_CNT        AMT  \\\n0        201901           강원  건강보조식품 소매업          강원       1058  147831746   \n1        201901           강원  건강보조식품 소매업          광주          5     127000   \n2        201901           강원  건강보조식품 소매업          대구          7     155000   \n3        201901           강원  건강보조식품 소매업          서울          5     151000   \n4        201901           강원  건강보조식품 소매업          전북          5      90000   \n...         ...          ...         ...         ...        ...        ...   \n106381   202003           충북    휴양콘도 운영업          경기         18    2170050   \n106382   202003           충북    휴양콘도 운영업          서울         37    6830430   \n106383   202003           충북    휴양콘도 운영업          세종          3     354000   \n106384   202003           충북    휴양콘도 운영업          인천          3      88250   \n106385   202003           충북    휴양콘도 운영업          충북         51    3137560   \n\n         CNT  확진자_증가_C  확진자_증가_H   전국확진자  전국확진자_증가  \n0       1105       0.0       0.0     0.0       0.0  \n1          5       0.0       0.0     0.0       0.0  \n2          7       0.0       0.0     0.0       0.0  \n3          6       0.0       0.0     0.0       0.0  \n4          5       0.0       0.0     0.0       0.0  \n...      ...       ...       ...     ...       ...  \n106381    20      34.0     394.0  9569.0    6419.0  \n106382    82      34.0     373.0  9569.0    6419.0  \n106383     3      34.0      45.0  9569.0    6419.0  \n106384     5      34.0      58.0  9569.0    6419.0  \n106385    68      34.0      34.0  9569.0    6419.0  \n\n[106386 rows x 11 columns]",
      "text/html": "<div>\n<style scoped>\n    .dataframe tbody tr th:only-of-type {\n        vertical-align: middle;\n    }\n\n    .dataframe tbody tr th {\n        vertical-align: top;\n    }\n\n    .dataframe thead th {\n        text-align: right;\n    }\n</style>\n<table border=\"1\" class=\"dataframe\">\n  <thead>\n    <tr style=\"text-align: right;\">\n      <th></th>\n      <th>REG_YYMM</th>\n      <th>CARD_SIDO_NM</th>\n      <th>STD_CLSS_NM</th>\n      <th>HOM_SIDO_NM</th>\n      <th>CSTMR_CNT</th>\n      <th>AMT</th>\n      <th>CNT</th>\n      <th>확진자_증가_C</th>\n      <th>확진자_증가_H</th>\n      <th>전국확진자</th>\n      <th>전국확진자_증가</th>\n    </tr>\n  </thead>\n  <tbody>\n    <tr>\n      <th>0</th>\n      <td>201901</td>\n      <td>강원</td>\n      <td>건강보조식품 소매업</td>\n      <td>강원</td>\n      <td>1058</td>\n      <td>147831746</td>\n      <td>1105</td>\n      <td>0.0</td>\n      <td>0.0</td>\n      <td>0.0</td>\n      <td>0.0</td>\n    </tr>\n    <tr>\n      <th>1</th>\n      <td>201901</td>\n      <td>강원</td>\n      <td>건강보조식품 소매업</td>\n      <td>광주</td>\n      <td>5</td>\n      <td>127000</td>\n      <td>5</td>\n      <td>0.0</td>\n      <td>0.0</td>\n      <td>0.0</td>\n      <td>0.0</td>\n    </tr>\n    <tr>\n      <th>2</th>\n      <td>201901</td>\n      <td>강원</td>\n      <td>건강보조식품 소매업</td>\n      <td>대구</td>\n      <td>7</td>\n      <td>155000</td>\n      <td>7</td>\n      <td>0.0</td>\n      <td>0.0</td>\n      <td>0.0</td>\n      <td>0.0</td>\n    </tr>\n    <tr>\n      <th>3</th>\n      <td>201901</td>\n      <td>강원</td>\n      <td>건강보조식품 소매업</td>\n      <td>서울</td>\n      <td>5</td>\n      <td>151000</td>\n      <td>6</td>\n      <td>0.0</td>\n      <td>0.0</td>\n      <td>0.0</td>\n      <td>0.0</td>\n    </tr>\n    <tr>\n      <th>4</th>\n      <td>201901</td>\n      <td>강원</td>\n      <td>건강보조식품 소매업</td>\n      <td>전북</td>\n      <td>5</td>\n      <td>90000</td>\n      <td>5</td>\n      <td>0.0</td>\n      <td>0.0</td>\n      <td>0.0</td>\n      <td>0.0</td>\n    </tr>\n    <tr>\n      <th>...</th>\n      <td>...</td>\n      <td>...</td>\n      <td>...</td>\n      <td>...</td>\n      <td>...</td>\n      <td>...</td>\n      <td>...</td>\n      <td>...</td>\n      <td>...</td>\n      <td>...</td>\n      <td>...</td>\n    </tr>\n    <tr>\n      <th>106381</th>\n      <td>202003</td>\n      <td>충북</td>\n      <td>휴양콘도 운영업</td>\n      <td>경기</td>\n      <td>18</td>\n      <td>2170050</td>\n      <td>20</td>\n      <td>34.0</td>\n      <td>394.0</td>\n      <td>9569.0</td>\n      <td>6419.0</td>\n    </tr>\n    <tr>\n      <th>106382</th>\n      <td>202003</td>\n      <td>충북</td>\n      <td>휴양콘도 운영업</td>\n      <td>서울</td>\n      <td>37</td>\n      <td>6830430</td>\n      <td>82</td>\n      <td>34.0</td>\n      <td>373.0</td>\n      <td>9569.0</td>\n      <td>6419.0</td>\n    </tr>\n    <tr>\n      <th>106383</th>\n      <td>202003</td>\n      <td>충북</td>\n      <td>휴양콘도 운영업</td>\n      <td>세종</td>\n      <td>3</td>\n      <td>354000</td>\n      <td>3</td>\n      <td>34.0</td>\n      <td>45.0</td>\n      <td>9569.0</td>\n      <td>6419.0</td>\n    </tr>\n    <tr>\n      <th>106384</th>\n      <td>202003</td>\n      <td>충북</td>\n      <td>휴양콘도 운영업</td>\n      <td>인천</td>\n      <td>3</td>\n      <td>88250</td>\n      <td>5</td>\n      <td>34.0</td>\n      <td>58.0</td>\n      <td>9569.0</td>\n      <td>6419.0</td>\n    </tr>\n    <tr>\n      <th>106385</th>\n      <td>202003</td>\n      <td>충북</td>\n      <td>휴양콘도 운영업</td>\n      <td>충북</td>\n      <td>51</td>\n      <td>3137560</td>\n      <td>68</td>\n      <td>34.0</td>\n      <td>34.0</td>\n      <td>9569.0</td>\n      <td>6419.0</td>\n    </tr>\n  </tbody>\n</table>\n<p>106386 rows × 11 columns</p>\n</div>"
     },
     "metadata": {},
     "execution_count": 14
    }
   ],
   "source": [
    "# HOM_SIDO_NM의 코로나 데이터 머징 후 컬럼명 정리\n",
    "data3 = pd.merge(data2, rcovid, left_on=['REG_YYMM','HOM_SIDO_NM'], right_on=['REG_YYMM','CARD_SIDO_NM'], how='left')\n",
    "data3.drop(['CARD_SIDO_NM_y','확진자_x','확진자_y'], axis=1, inplace=True)\n",
    "data3 = data3.rename(columns={'CARD_SIDO_NM_x':'CARD_SIDO_NM','확진자_증가_x':'확진자_증가_C','확진자_증가_y':'확진자_증가_H'})\n",
    "data3 = data3.fillna(0)\n",
    "data3"
   ]
  },
  {
   "cell_type": "code",
   "execution_count": 15,
   "metadata": {},
   "outputs": [
    {
     "output_type": "execute_result",
     "data": {
      "text/plain": "   REG_YYMM  sobi_Qchange\n0    201901           0.6\n1    201902           2.1\n2    201903           0.2\n3    201904           1.9\n4    201905          -3.8\n5    201906          -0.3\n6    201907          -1.7\n7    201908          -3.5\n8    201909           4.6\n9    201910           1.6\n10   201911           2.4\n11   201912          -0.5\n12   202001           3.7\n13   202002          -7.3\n14   202003         -18.5\n15   202004          -7.6",
      "text/html": "<div>\n<style scoped>\n    .dataframe tbody tr th:only-of-type {\n        vertical-align: middle;\n    }\n\n    .dataframe tbody tr th {\n        vertical-align: top;\n    }\n\n    .dataframe thead th {\n        text-align: right;\n    }\n</style>\n<table border=\"1\" class=\"dataframe\">\n  <thead>\n    <tr style=\"text-align: right;\">\n      <th></th>\n      <th>REG_YYMM</th>\n      <th>sobi_Qchange</th>\n    </tr>\n  </thead>\n  <tbody>\n    <tr>\n      <th>0</th>\n      <td>201901</td>\n      <td>0.6</td>\n    </tr>\n    <tr>\n      <th>1</th>\n      <td>201902</td>\n      <td>2.1</td>\n    </tr>\n    <tr>\n      <th>2</th>\n      <td>201903</td>\n      <td>0.2</td>\n    </tr>\n    <tr>\n      <th>3</th>\n      <td>201904</td>\n      <td>1.9</td>\n    </tr>\n    <tr>\n      <th>4</th>\n      <td>201905</td>\n      <td>-3.8</td>\n    </tr>\n    <tr>\n      <th>5</th>\n      <td>201906</td>\n      <td>-0.3</td>\n    </tr>\n    <tr>\n      <th>6</th>\n      <td>201907</td>\n      <td>-1.7</td>\n    </tr>\n    <tr>\n      <th>7</th>\n      <td>201908</td>\n      <td>-3.5</td>\n    </tr>\n    <tr>\n      <th>8</th>\n      <td>201909</td>\n      <td>4.6</td>\n    </tr>\n    <tr>\n      <th>9</th>\n      <td>201910</td>\n      <td>1.6</td>\n    </tr>\n    <tr>\n      <th>10</th>\n      <td>201911</td>\n      <td>2.4</td>\n    </tr>\n    <tr>\n      <th>11</th>\n      <td>201912</td>\n      <td>-0.5</td>\n    </tr>\n    <tr>\n      <th>12</th>\n      <td>202001</td>\n      <td>3.7</td>\n    </tr>\n    <tr>\n      <th>13</th>\n      <td>202002</td>\n      <td>-7.3</td>\n    </tr>\n    <tr>\n      <th>14</th>\n      <td>202003</td>\n      <td>-18.5</td>\n    </tr>\n    <tr>\n      <th>15</th>\n      <td>202004</td>\n      <td>-7.6</td>\n    </tr>\n  </tbody>\n</table>\n</div>"
     },
     "metadata": {},
     "execution_count": 15
    }
   ],
   "source": [
    "# 소비자 심리지수 월별 변화량 가져오기\n",
    "qtable=pd.read_csv('jeju_data_ver1/qtable.csv')\n",
    "qtable=qtable[['REG_YYMM','sobi_Qchange']]\n",
    "# 날짜 타입 변경\n",
    "qtable['REG_YYMM']=qtable['REG_YYMM'].astype('str')\n",
    "qtable"
   ]
  },
  {
   "cell_type": "code",
   "execution_count": 16,
   "metadata": {},
   "outputs": [
    {
     "output_type": "execute_result",
     "data": {
      "text/plain": "       REG_YYMM CARD_SIDO_NM STD_CLSS_NM HOM_SIDO_NM  CSTMR_CNT        AMT  \\\n0        201901           강원  건강보조식품 소매업          강원       1058  147831746   \n1        201901           강원  건강보조식품 소매업          광주          5     127000   \n2        201901           강원  건강보조식품 소매업          대구          7     155000   \n3        201901           강원  건강보조식품 소매업          서울          5     151000   \n4        201901           강원  건강보조식품 소매업          전북          5      90000   \n...         ...          ...         ...         ...        ...        ...   \n106381   202003           충북    휴양콘도 운영업          경기         18    2170050   \n106382   202003           충북    휴양콘도 운영업          서울         37    6830430   \n106383   202003           충북    휴양콘도 운영업          세종          3     354000   \n106384   202003           충북    휴양콘도 운영업          인천          3      88250   \n106385   202003           충북    휴양콘도 운영업          충북         51    3137560   \n\n         CNT  확진자_증가_C  확진자_증가_H   전국확진자  전국확진자_증가  sobi_Qchange  \n0       1105       0.0       0.0     0.0       0.0           0.6  \n1          5       0.0       0.0     0.0       0.0           0.6  \n2          7       0.0       0.0     0.0       0.0           0.6  \n3          6       0.0       0.0     0.0       0.0           0.6  \n4          5       0.0       0.0     0.0       0.0           0.6  \n...      ...       ...       ...     ...       ...           ...  \n106381    20      34.0     394.0  9569.0    6419.0         -18.5  \n106382    82      34.0     373.0  9569.0    6419.0         -18.5  \n106383     3      34.0      45.0  9569.0    6419.0         -18.5  \n106384     5      34.0      58.0  9569.0    6419.0         -18.5  \n106385    68      34.0      34.0  9569.0    6419.0         -18.5  \n\n[106386 rows x 12 columns]",
      "text/html": "<div>\n<style scoped>\n    .dataframe tbody tr th:only-of-type {\n        vertical-align: middle;\n    }\n\n    .dataframe tbody tr th {\n        vertical-align: top;\n    }\n\n    .dataframe thead th {\n        text-align: right;\n    }\n</style>\n<table border=\"1\" class=\"dataframe\">\n  <thead>\n    <tr style=\"text-align: right;\">\n      <th></th>\n      <th>REG_YYMM</th>\n      <th>CARD_SIDO_NM</th>\n      <th>STD_CLSS_NM</th>\n      <th>HOM_SIDO_NM</th>\n      <th>CSTMR_CNT</th>\n      <th>AMT</th>\n      <th>CNT</th>\n      <th>확진자_증가_C</th>\n      <th>확진자_증가_H</th>\n      <th>전국확진자</th>\n      <th>전국확진자_증가</th>\n      <th>sobi_Qchange</th>\n    </tr>\n  </thead>\n  <tbody>\n    <tr>\n      <th>0</th>\n      <td>201901</td>\n      <td>강원</td>\n      <td>건강보조식품 소매업</td>\n      <td>강원</td>\n      <td>1058</td>\n      <td>147831746</td>\n      <td>1105</td>\n      <td>0.0</td>\n      <td>0.0</td>\n      <td>0.0</td>\n      <td>0.0</td>\n      <td>0.6</td>\n    </tr>\n    <tr>\n      <th>1</th>\n      <td>201901</td>\n      <td>강원</td>\n      <td>건강보조식품 소매업</td>\n      <td>광주</td>\n      <td>5</td>\n      <td>127000</td>\n      <td>5</td>\n      <td>0.0</td>\n      <td>0.0</td>\n      <td>0.0</td>\n      <td>0.0</td>\n      <td>0.6</td>\n    </tr>\n    <tr>\n      <th>2</th>\n      <td>201901</td>\n      <td>강원</td>\n      <td>건강보조식품 소매업</td>\n      <td>대구</td>\n      <td>7</td>\n      <td>155000</td>\n      <td>7</td>\n      <td>0.0</td>\n      <td>0.0</td>\n      <td>0.0</td>\n      <td>0.0</td>\n      <td>0.6</td>\n    </tr>\n    <tr>\n      <th>3</th>\n      <td>201901</td>\n      <td>강원</td>\n      <td>건강보조식품 소매업</td>\n      <td>서울</td>\n      <td>5</td>\n      <td>151000</td>\n      <td>6</td>\n      <td>0.0</td>\n      <td>0.0</td>\n      <td>0.0</td>\n      <td>0.0</td>\n      <td>0.6</td>\n    </tr>\n    <tr>\n      <th>4</th>\n      <td>201901</td>\n      <td>강원</td>\n      <td>건강보조식품 소매업</td>\n      <td>전북</td>\n      <td>5</td>\n      <td>90000</td>\n      <td>5</td>\n      <td>0.0</td>\n      <td>0.0</td>\n      <td>0.0</td>\n      <td>0.0</td>\n      <td>0.6</td>\n    </tr>\n    <tr>\n      <th>...</th>\n      <td>...</td>\n      <td>...</td>\n      <td>...</td>\n      <td>...</td>\n      <td>...</td>\n      <td>...</td>\n      <td>...</td>\n      <td>...</td>\n      <td>...</td>\n      <td>...</td>\n      <td>...</td>\n      <td>...</td>\n    </tr>\n    <tr>\n      <th>106381</th>\n      <td>202003</td>\n      <td>충북</td>\n      <td>휴양콘도 운영업</td>\n      <td>경기</td>\n      <td>18</td>\n      <td>2170050</td>\n      <td>20</td>\n      <td>34.0</td>\n      <td>394.0</td>\n      <td>9569.0</td>\n      <td>6419.0</td>\n      <td>-18.5</td>\n    </tr>\n    <tr>\n      <th>106382</th>\n      <td>202003</td>\n      <td>충북</td>\n      <td>휴양콘도 운영업</td>\n      <td>서울</td>\n      <td>37</td>\n      <td>6830430</td>\n      <td>82</td>\n      <td>34.0</td>\n      <td>373.0</td>\n      <td>9569.0</td>\n      <td>6419.0</td>\n      <td>-18.5</td>\n    </tr>\n    <tr>\n      <th>106383</th>\n      <td>202003</td>\n      <td>충북</td>\n      <td>휴양콘도 운영업</td>\n      <td>세종</td>\n      <td>3</td>\n      <td>354000</td>\n      <td>3</td>\n      <td>34.0</td>\n      <td>45.0</td>\n      <td>9569.0</td>\n      <td>6419.0</td>\n      <td>-18.5</td>\n    </tr>\n    <tr>\n      <th>106384</th>\n      <td>202003</td>\n      <td>충북</td>\n      <td>휴양콘도 운영업</td>\n      <td>인천</td>\n      <td>3</td>\n      <td>88250</td>\n      <td>5</td>\n      <td>34.0</td>\n      <td>58.0</td>\n      <td>9569.0</td>\n      <td>6419.0</td>\n      <td>-18.5</td>\n    </tr>\n    <tr>\n      <th>106385</th>\n      <td>202003</td>\n      <td>충북</td>\n      <td>휴양콘도 운영업</td>\n      <td>충북</td>\n      <td>51</td>\n      <td>3137560</td>\n      <td>68</td>\n      <td>34.0</td>\n      <td>34.0</td>\n      <td>9569.0</td>\n      <td>6419.0</td>\n      <td>-18.5</td>\n    </tr>\n  </tbody>\n</table>\n<p>106386 rows × 12 columns</p>\n</div>"
     },
     "metadata": {},
     "execution_count": 16
    }
   ],
   "source": [
    "# 월별 소비자 심리지수 병합\n",
    "data4 = pd.merge(data3, qtable, on='REG_YYMM', how='left')\n",
    "data4"
   ]
  },
  {
   "cell_type": "code",
   "execution_count": 18,
   "metadata": {},
   "outputs": [
    {
     "output_type": "execute_result",
     "data": {
      "text/plain": "       REG_YYMM  CSTMR_CNT        AMT   CNT  확진자_증가_C  확진자_증가_H   전국확진자  \\\n0        201901       1058  147831746  1105       0.0       0.0     0.0   \n1        201901          5     127000     5       0.0       0.0     0.0   \n2        201901          7     155000     7       0.0       0.0     0.0   \n3        201901          5     151000     6       0.0       0.0     0.0   \n4        201901          5      90000     5       0.0       0.0     0.0   \n...         ...        ...        ...   ...       ...       ...     ...   \n106381   202003         18    2170050    20      34.0     394.0  9569.0   \n106382   202003         37    6830430    82      34.0     373.0  9569.0   \n106383   202003          3     354000     3      34.0      45.0  9569.0   \n106384   202003          3      88250     5      34.0      58.0  9569.0   \n106385   202003         51    3137560    68      34.0      34.0  9569.0   \n\n        전국확진자_증가  sobi_Qchange  CARD_SIDO_NM_강원  ...  HOM_SIDO_NM_부산  \\\n0            0.0           0.6                1  ...               0   \n1            0.0           0.6                1  ...               0   \n2            0.0           0.6                1  ...               0   \n3            0.0           0.6                1  ...               0   \n4            0.0           0.6                1  ...               0   \n...          ...           ...              ...  ...             ...   \n106381    6419.0         -18.5                0  ...               0   \n106382    6419.0         -18.5                0  ...               0   \n106383    6419.0         -18.5                0  ...               0   \n106384    6419.0         -18.5                0  ...               0   \n106385    6419.0         -18.5                0  ...               0   \n\n        HOM_SIDO_NM_서울  HOM_SIDO_NM_세종  HOM_SIDO_NM_울산  HOM_SIDO_NM_인천  \\\n0                    0               0               0               0   \n1                    0               0               0               0   \n2                    0               0               0               0   \n3                    1               0               0               0   \n4                    0               0               0               0   \n...                ...             ...             ...             ...   \n106381               0               0               0               0   \n106382               1               0               0               0   \n106383               0               1               0               0   \n106384               0               0               0               1   \n106385               0               0               0               0   \n\n        HOM_SIDO_NM_전남  HOM_SIDO_NM_전북  HOM_SIDO_NM_제주  HOM_SIDO_NM_충남  \\\n0                    0               0               0               0   \n1                    0               0               0               0   \n2                    0               0               0               0   \n3                    0               0               0               0   \n4                    0               1               0               0   \n...                ...             ...             ...             ...   \n106381               0               0               0               0   \n106382               0               0               0               0   \n106383               0               0               0               0   \n106384               0               0               0               0   \n106385               0               0               0               0   \n\n        HOM_SIDO_NM_충북  \n0                    0  \n1                    0  \n2                    0  \n3                    0  \n4                    0  \n...                ...  \n106381               0  \n106382               0  \n106383               0  \n106384               0  \n106385               1  \n\n[106386 rows x 84 columns]",
      "text/html": "<div>\n<style scoped>\n    .dataframe tbody tr th:only-of-type {\n        vertical-align: middle;\n    }\n\n    .dataframe tbody tr th {\n        vertical-align: top;\n    }\n\n    .dataframe thead th {\n        text-align: right;\n    }\n</style>\n<table border=\"1\" class=\"dataframe\">\n  <thead>\n    <tr style=\"text-align: right;\">\n      <th></th>\n      <th>REG_YYMM</th>\n      <th>CSTMR_CNT</th>\n      <th>AMT</th>\n      <th>CNT</th>\n      <th>확진자_증가_C</th>\n      <th>확진자_증가_H</th>\n      <th>전국확진자</th>\n      <th>전국확진자_증가</th>\n      <th>sobi_Qchange</th>\n      <th>CARD_SIDO_NM_강원</th>\n      <th>...</th>\n      <th>HOM_SIDO_NM_부산</th>\n      <th>HOM_SIDO_NM_서울</th>\n      <th>HOM_SIDO_NM_세종</th>\n      <th>HOM_SIDO_NM_울산</th>\n      <th>HOM_SIDO_NM_인천</th>\n      <th>HOM_SIDO_NM_전남</th>\n      <th>HOM_SIDO_NM_전북</th>\n      <th>HOM_SIDO_NM_제주</th>\n      <th>HOM_SIDO_NM_충남</th>\n      <th>HOM_SIDO_NM_충북</th>\n    </tr>\n  </thead>\n  <tbody>\n    <tr>\n      <th>0</th>\n      <td>201901</td>\n      <td>1058</td>\n      <td>147831746</td>\n      <td>1105</td>\n      <td>0.0</td>\n      <td>0.0</td>\n      <td>0.0</td>\n      <td>0.0</td>\n      <td>0.6</td>\n      <td>1</td>\n      <td>...</td>\n      <td>0</td>\n      <td>0</td>\n      <td>0</td>\n      <td>0</td>\n      <td>0</td>\n      <td>0</td>\n      <td>0</td>\n      <td>0</td>\n      <td>0</td>\n      <td>0</td>\n    </tr>\n    <tr>\n      <th>1</th>\n      <td>201901</td>\n      <td>5</td>\n      <td>127000</td>\n      <td>5</td>\n      <td>0.0</td>\n      <td>0.0</td>\n      <td>0.0</td>\n      <td>0.0</td>\n      <td>0.6</td>\n      <td>1</td>\n      <td>...</td>\n      <td>0</td>\n      <td>0</td>\n      <td>0</td>\n      <td>0</td>\n      <td>0</td>\n      <td>0</td>\n      <td>0</td>\n      <td>0</td>\n      <td>0</td>\n      <td>0</td>\n    </tr>\n    <tr>\n      <th>2</th>\n      <td>201901</td>\n      <td>7</td>\n      <td>155000</td>\n      <td>7</td>\n      <td>0.0</td>\n      <td>0.0</td>\n      <td>0.0</td>\n      <td>0.0</td>\n      <td>0.6</td>\n      <td>1</td>\n      <td>...</td>\n      <td>0</td>\n      <td>0</td>\n      <td>0</td>\n      <td>0</td>\n      <td>0</td>\n      <td>0</td>\n      <td>0</td>\n      <td>0</td>\n      <td>0</td>\n      <td>0</td>\n    </tr>\n    <tr>\n      <th>3</th>\n      <td>201901</td>\n      <td>5</td>\n      <td>151000</td>\n      <td>6</td>\n      <td>0.0</td>\n      <td>0.0</td>\n      <td>0.0</td>\n      <td>0.0</td>\n      <td>0.6</td>\n      <td>1</td>\n      <td>...</td>\n      <td>0</td>\n      <td>1</td>\n      <td>0</td>\n      <td>0</td>\n      <td>0</td>\n      <td>0</td>\n      <td>0</td>\n      <td>0</td>\n      <td>0</td>\n      <td>0</td>\n    </tr>\n    <tr>\n      <th>4</th>\n      <td>201901</td>\n      <td>5</td>\n      <td>90000</td>\n      <td>5</td>\n      <td>0.0</td>\n      <td>0.0</td>\n      <td>0.0</td>\n      <td>0.0</td>\n      <td>0.6</td>\n      <td>1</td>\n      <td>...</td>\n      <td>0</td>\n      <td>0</td>\n      <td>0</td>\n      <td>0</td>\n      <td>0</td>\n      <td>0</td>\n      <td>1</td>\n      <td>0</td>\n      <td>0</td>\n      <td>0</td>\n    </tr>\n    <tr>\n      <th>...</th>\n      <td>...</td>\n      <td>...</td>\n      <td>...</td>\n      <td>...</td>\n      <td>...</td>\n      <td>...</td>\n      <td>...</td>\n      <td>...</td>\n      <td>...</td>\n      <td>...</td>\n      <td>...</td>\n      <td>...</td>\n      <td>...</td>\n      <td>...</td>\n      <td>...</td>\n      <td>...</td>\n      <td>...</td>\n      <td>...</td>\n      <td>...</td>\n      <td>...</td>\n      <td>...</td>\n    </tr>\n    <tr>\n      <th>106381</th>\n      <td>202003</td>\n      <td>18</td>\n      <td>2170050</td>\n      <td>20</td>\n      <td>34.0</td>\n      <td>394.0</td>\n      <td>9569.0</td>\n      <td>6419.0</td>\n      <td>-18.5</td>\n      <td>0</td>\n      <td>...</td>\n      <td>0</td>\n      <td>0</td>\n      <td>0</td>\n      <td>0</td>\n      <td>0</td>\n      <td>0</td>\n      <td>0</td>\n      <td>0</td>\n      <td>0</td>\n      <td>0</td>\n    </tr>\n    <tr>\n      <th>106382</th>\n      <td>202003</td>\n      <td>37</td>\n      <td>6830430</td>\n      <td>82</td>\n      <td>34.0</td>\n      <td>373.0</td>\n      <td>9569.0</td>\n      <td>6419.0</td>\n      <td>-18.5</td>\n      <td>0</td>\n      <td>...</td>\n      <td>0</td>\n      <td>1</td>\n      <td>0</td>\n      <td>0</td>\n      <td>0</td>\n      <td>0</td>\n      <td>0</td>\n      <td>0</td>\n      <td>0</td>\n      <td>0</td>\n    </tr>\n    <tr>\n      <th>106383</th>\n      <td>202003</td>\n      <td>3</td>\n      <td>354000</td>\n      <td>3</td>\n      <td>34.0</td>\n      <td>45.0</td>\n      <td>9569.0</td>\n      <td>6419.0</td>\n      <td>-18.5</td>\n      <td>0</td>\n      <td>...</td>\n      <td>0</td>\n      <td>0</td>\n      <td>1</td>\n      <td>0</td>\n      <td>0</td>\n      <td>0</td>\n      <td>0</td>\n      <td>0</td>\n      <td>0</td>\n      <td>0</td>\n    </tr>\n    <tr>\n      <th>106384</th>\n      <td>202003</td>\n      <td>3</td>\n      <td>88250</td>\n      <td>5</td>\n      <td>34.0</td>\n      <td>58.0</td>\n      <td>9569.0</td>\n      <td>6419.0</td>\n      <td>-18.5</td>\n      <td>0</td>\n      <td>...</td>\n      <td>0</td>\n      <td>0</td>\n      <td>0</td>\n      <td>0</td>\n      <td>1</td>\n      <td>0</td>\n      <td>0</td>\n      <td>0</td>\n      <td>0</td>\n      <td>0</td>\n    </tr>\n    <tr>\n      <th>106385</th>\n      <td>202003</td>\n      <td>51</td>\n      <td>3137560</td>\n      <td>68</td>\n      <td>34.0</td>\n      <td>34.0</td>\n      <td>9569.0</td>\n      <td>6419.0</td>\n      <td>-18.5</td>\n      <td>0</td>\n      <td>...</td>\n      <td>0</td>\n      <td>0</td>\n      <td>0</td>\n      <td>0</td>\n      <td>0</td>\n      <td>0</td>\n      <td>0</td>\n      <td>0</td>\n      <td>0</td>\n      <td>1</td>\n    </tr>\n  </tbody>\n</table>\n<p>106386 rows × 84 columns</p>\n</div>"
     },
     "metadata": {},
     "execution_count": 18
    }
   ],
   "source": [
    "# OneHotEncoding\n",
    "def myData(data, col):\n",
    "    # print(data[col])\n",
    "    for c in col:\n",
    "        data=pd.concat([data,pd.get_dummies(data[c],prefix=c)],axis=1)\n",
    "        data=data.drop(c,axis=1)\n",
    "    return data\n",
    "col=['CARD_SIDO_NM', 'STD_CLSS_NM', 'HOM_SIDO_NM']\n",
    "data5=myData(data4, col)\n",
    "data5"
   ]
  },
  {
   "cell_type": "code",
   "execution_count": 19,
   "metadata": {},
   "outputs": [
    {
     "output_type": "execute_result",
     "data": {
      "text/plain": "       REG_YYMM  CSTMR_CNT        AMT   CNT  확진자_증가_C  확진자_증가_H   전국확진자  \\\n0        201901       1058  147831746  1105       0.0       0.0     0.0   \n1        201901          5     127000     5       0.0       0.0     0.0   \n2        201901          7     155000     7       0.0       0.0     0.0   \n3        201901          5     151000     6       0.0       0.0     0.0   \n4        201901          5      90000     5       0.0       0.0     0.0   \n...         ...        ...        ...   ...       ...       ...     ...   \n106381   202003         18    2170050    20      34.0     394.0  9569.0   \n106382   202003         37    6830430    82      34.0     373.0  9569.0   \n106383   202003          3     354000     3      34.0      45.0  9569.0   \n106384   202003          3      88250     5      34.0      58.0  9569.0   \n106385   202003         51    3137560    68      34.0      34.0  9569.0   \n\n        전국확진자_증가  sobi_Qchange  CARD_SIDO_NM_강원  ...  HOM_SIDO_NM_부산  \\\n0            0.0           0.6                1  ...               0   \n1            0.0           0.6                1  ...               0   \n2            0.0           0.6                1  ...               0   \n3            0.0           0.6                1  ...               0   \n4            0.0           0.6                1  ...               0   \n...          ...           ...              ...  ...             ...   \n106381    6419.0         -18.5                0  ...               0   \n106382    6419.0         -18.5                0  ...               0   \n106383    6419.0         -18.5                0  ...               0   \n106384    6419.0         -18.5                0  ...               0   \n106385    6419.0         -18.5                0  ...               0   \n\n        HOM_SIDO_NM_서울  HOM_SIDO_NM_세종  HOM_SIDO_NM_울산  HOM_SIDO_NM_인천  \\\n0                    0               0               0               0   \n1                    0               0               0               0   \n2                    0               0               0               0   \n3                    1               0               0               0   \n4                    0               0               0               0   \n...                ...             ...             ...             ...   \n106381               0               0               0               0   \n106382               1               0               0               0   \n106383               0               1               0               0   \n106384               0               0               0               1   \n106385               0               0               0               0   \n\n        HOM_SIDO_NM_전남  HOM_SIDO_NM_전북  HOM_SIDO_NM_제주  HOM_SIDO_NM_충남  \\\n0                    0               0               0               0   \n1                    0               0               0               0   \n2                    0               0               0               0   \n3                    0               0               0               0   \n4                    0               1               0               0   \n...                ...             ...             ...             ...   \n106381               0               0               0               0   \n106382               0               0               0               0   \n106383               0               0               0               0   \n106384               0               0               0               0   \n106385               0               0               0               0   \n\n        HOM_SIDO_NM_충북  \n0                    0  \n1                    0  \n2                    0  \n3                    0  \n4                    0  \n...                ...  \n106381               0  \n106382               0  \n106383               0  \n106384               0  \n106385               1  \n\n[106386 rows x 84 columns]",
      "text/html": "<div>\n<style scoped>\n    .dataframe tbody tr th:only-of-type {\n        vertical-align: middle;\n    }\n\n    .dataframe tbody tr th {\n        vertical-align: top;\n    }\n\n    .dataframe thead th {\n        text-align: right;\n    }\n</style>\n<table border=\"1\" class=\"dataframe\">\n  <thead>\n    <tr style=\"text-align: right;\">\n      <th></th>\n      <th>REG_YYMM</th>\n      <th>CSTMR_CNT</th>\n      <th>AMT</th>\n      <th>CNT</th>\n      <th>확진자_증가_C</th>\n      <th>확진자_증가_H</th>\n      <th>전국확진자</th>\n      <th>전국확진자_증가</th>\n      <th>sobi_Qchange</th>\n      <th>CARD_SIDO_NM_강원</th>\n      <th>...</th>\n      <th>HOM_SIDO_NM_부산</th>\n      <th>HOM_SIDO_NM_서울</th>\n      <th>HOM_SIDO_NM_세종</th>\n      <th>HOM_SIDO_NM_울산</th>\n      <th>HOM_SIDO_NM_인천</th>\n      <th>HOM_SIDO_NM_전남</th>\n      <th>HOM_SIDO_NM_전북</th>\n      <th>HOM_SIDO_NM_제주</th>\n      <th>HOM_SIDO_NM_충남</th>\n      <th>HOM_SIDO_NM_충북</th>\n    </tr>\n  </thead>\n  <tbody>\n    <tr>\n      <th>0</th>\n      <td>201901</td>\n      <td>1058</td>\n      <td>147831746</td>\n      <td>1105</td>\n      <td>0.0</td>\n      <td>0.0</td>\n      <td>0.0</td>\n      <td>0.0</td>\n      <td>0.6</td>\n      <td>1</td>\n      <td>...</td>\n      <td>0</td>\n      <td>0</td>\n      <td>0</td>\n      <td>0</td>\n      <td>0</td>\n      <td>0</td>\n      <td>0</td>\n      <td>0</td>\n      <td>0</td>\n      <td>0</td>\n    </tr>\n    <tr>\n      <th>1</th>\n      <td>201901</td>\n      <td>5</td>\n      <td>127000</td>\n      <td>5</td>\n      <td>0.0</td>\n      <td>0.0</td>\n      <td>0.0</td>\n      <td>0.0</td>\n      <td>0.6</td>\n      <td>1</td>\n      <td>...</td>\n      <td>0</td>\n      <td>0</td>\n      <td>0</td>\n      <td>0</td>\n      <td>0</td>\n      <td>0</td>\n      <td>0</td>\n      <td>0</td>\n      <td>0</td>\n      <td>0</td>\n    </tr>\n    <tr>\n      <th>2</th>\n      <td>201901</td>\n      <td>7</td>\n      <td>155000</td>\n      <td>7</td>\n      <td>0.0</td>\n      <td>0.0</td>\n      <td>0.0</td>\n      <td>0.0</td>\n      <td>0.6</td>\n      <td>1</td>\n      <td>...</td>\n      <td>0</td>\n      <td>0</td>\n      <td>0</td>\n      <td>0</td>\n      <td>0</td>\n      <td>0</td>\n      <td>0</td>\n      <td>0</td>\n      <td>0</td>\n      <td>0</td>\n    </tr>\n    <tr>\n      <th>3</th>\n      <td>201901</td>\n      <td>5</td>\n      <td>151000</td>\n      <td>6</td>\n      <td>0.0</td>\n      <td>0.0</td>\n      <td>0.0</td>\n      <td>0.0</td>\n      <td>0.6</td>\n      <td>1</td>\n      <td>...</td>\n      <td>0</td>\n      <td>1</td>\n      <td>0</td>\n      <td>0</td>\n      <td>0</td>\n      <td>0</td>\n      <td>0</td>\n      <td>0</td>\n      <td>0</td>\n      <td>0</td>\n    </tr>\n    <tr>\n      <th>4</th>\n      <td>201901</td>\n      <td>5</td>\n      <td>90000</td>\n      <td>5</td>\n      <td>0.0</td>\n      <td>0.0</td>\n      <td>0.0</td>\n      <td>0.0</td>\n      <td>0.6</td>\n      <td>1</td>\n      <td>...</td>\n      <td>0</td>\n      <td>0</td>\n      <td>0</td>\n      <td>0</td>\n      <td>0</td>\n      <td>0</td>\n      <td>1</td>\n      <td>0</td>\n      <td>0</td>\n      <td>0</td>\n    </tr>\n    <tr>\n      <th>...</th>\n      <td>...</td>\n      <td>...</td>\n      <td>...</td>\n      <td>...</td>\n      <td>...</td>\n      <td>...</td>\n      <td>...</td>\n      <td>...</td>\n      <td>...</td>\n      <td>...</td>\n      <td>...</td>\n      <td>...</td>\n      <td>...</td>\n      <td>...</td>\n      <td>...</td>\n      <td>...</td>\n      <td>...</td>\n      <td>...</td>\n      <td>...</td>\n      <td>...</td>\n      <td>...</td>\n    </tr>\n    <tr>\n      <th>106381</th>\n      <td>202003</td>\n      <td>18</td>\n      <td>2170050</td>\n      <td>20</td>\n      <td>34.0</td>\n      <td>394.0</td>\n      <td>9569.0</td>\n      <td>6419.0</td>\n      <td>-18.5</td>\n      <td>0</td>\n      <td>...</td>\n      <td>0</td>\n      <td>0</td>\n      <td>0</td>\n      <td>0</td>\n      <td>0</td>\n      <td>0</td>\n      <td>0</td>\n      <td>0</td>\n      <td>0</td>\n      <td>0</td>\n    </tr>\n    <tr>\n      <th>106382</th>\n      <td>202003</td>\n      <td>37</td>\n      <td>6830430</td>\n      <td>82</td>\n      <td>34.0</td>\n      <td>373.0</td>\n      <td>9569.0</td>\n      <td>6419.0</td>\n      <td>-18.5</td>\n      <td>0</td>\n      <td>...</td>\n      <td>0</td>\n      <td>1</td>\n      <td>0</td>\n      <td>0</td>\n      <td>0</td>\n      <td>0</td>\n      <td>0</td>\n      <td>0</td>\n      <td>0</td>\n      <td>0</td>\n    </tr>\n    <tr>\n      <th>106383</th>\n      <td>202003</td>\n      <td>3</td>\n      <td>354000</td>\n      <td>3</td>\n      <td>34.0</td>\n      <td>45.0</td>\n      <td>9569.0</td>\n      <td>6419.0</td>\n      <td>-18.5</td>\n      <td>0</td>\n      <td>...</td>\n      <td>0</td>\n      <td>0</td>\n      <td>1</td>\n      <td>0</td>\n      <td>0</td>\n      <td>0</td>\n      <td>0</td>\n      <td>0</td>\n      <td>0</td>\n      <td>0</td>\n    </tr>\n    <tr>\n      <th>106384</th>\n      <td>202003</td>\n      <td>3</td>\n      <td>88250</td>\n      <td>5</td>\n      <td>34.0</td>\n      <td>58.0</td>\n      <td>9569.0</td>\n      <td>6419.0</td>\n      <td>-18.5</td>\n      <td>0</td>\n      <td>...</td>\n      <td>0</td>\n      <td>0</td>\n      <td>0</td>\n      <td>0</td>\n      <td>1</td>\n      <td>0</td>\n      <td>0</td>\n      <td>0</td>\n      <td>0</td>\n      <td>0</td>\n    </tr>\n    <tr>\n      <th>106385</th>\n      <td>202003</td>\n      <td>51</td>\n      <td>3137560</td>\n      <td>68</td>\n      <td>34.0</td>\n      <td>34.0</td>\n      <td>9569.0</td>\n      <td>6419.0</td>\n      <td>-18.5</td>\n      <td>0</td>\n      <td>...</td>\n      <td>0</td>\n      <td>0</td>\n      <td>0</td>\n      <td>0</td>\n      <td>0</td>\n      <td>0</td>\n      <td>0</td>\n      <td>0</td>\n      <td>0</td>\n      <td>1</td>\n    </tr>\n  </tbody>\n</table>\n<p>106386 rows × 84 columns</p>\n</div>"
     },
     "metadata": {},
     "execution_count": 19
    }
   ],
   "source": [
    "data5.to_csv('data_ohe.csv', encoding='utf-8', index=False)\n",
    "data5"
   ]
  }
 ],
 "metadata": {
  "language_info": {
   "codemirror_mode": {
    "name": "ipython",
    "version": 3
   },
   "file_extension": ".py",
   "mimetype": "text/x-python",
   "name": "python",
   "nbconvert_exporter": "python",
   "pygments_lexer": "ipython3",
   "version": 3
  },
  "orig_nbformat": 2,
  "kernelspec": {
   "name": "python_defaultSpec_1593764483449",
   "display_name": "Python 3.7.7 64-bit"
  }
 },
 "nbformat": 4,
 "nbformat_minor": 2
}
